{
 "cells": [
  {
   "cell_type": "code",
   "execution_count": 4,
   "id": "f432d6a3",
   "metadata": {},
   "outputs": [],
   "source": [
    "import math\n",
    "import tensorflow as tf\n",
    "import pandas as pd\n",
    "import shutil\n",
    "import random\n",
    "import os\n",
    "import json"
   ]
  },
  {
   "cell_type": "code",
   "execution_count": 5,
   "id": "401bb014",
   "metadata": {},
   "outputs": [],
   "source": [
    "# Directory containing dataset\n",
    "data_directory = os.path.join(\n",
    "    \"archive\", \"plantvillage dataset\", \"color\"\n",
    ")"
   ]
  },
  {
   "cell_type": "code",
   "execution_count": 6,
   "id": "2a32ca20",
   "metadata": {},
   "outputs": [],
   "source": [
    "# Make folders to hold dataset\n",
    "split_dataset_dir = \"split_dataset\"\n",
    "os.mkdir(split_dataset_dir)\n",
    "os.mkdir(os.path.join(split_dataset_dir, \"train\"))\n",
    "os.mkdir(os.path.join(split_dataset_dir, \"validation\"))\n",
    "os.mkdir(os.path.join(split_dataset_dir, \"test\"))"
   ]
  },
  {
   "cell_type": "code",
   "execution_count": 7,
   "id": "511b073a",
   "metadata": {},
   "outputs": [],
   "source": [
    "def split_train_validation_test(\n",
    "    from_directory: str,\n",
    "    destination_directory: str,\n",
    "    test_percent: int = 1,\n",
    "    validation_percent: int = 20,\n",
    ") -> None:\n",
    "    \"\"\"\n",
    "    Copy image files from folder into the destination folder split into three\n",
    "    folders: train, validation, test.\n",
    "    :param from_directory: Directory containing images.\n",
    "    :param destination_directory: Destination directory.\n",
    "    :param test_percent: Percent of total images by type to go into this folder.\n",
    "    :param validation_percent: Percent of total images by type to go into this folder.\n",
    "    :return: None.\n",
    "    \"\"\"\n",
    "    dataset_dirs = [\"test\", \"validation\", \"train\"]\n",
    "    split_percent = (test_percent, validation_percent, 100)\n",
    "    images_copied = set()\n",
    "    folders = os.listdir(from_directory)\n",
    "    for index, split_dir in enumerate(dataset_dirs):\n",
    "        print(\"\\n\")\n",
    "        for folder in folders:\n",
    "            folder_path = os.path.join(from_directory, folder)\n",
    "\n",
    "            # Get list of images and filter out already copied images\n",
    "            images = os.listdir(folder_path)\n",
    "            images = list(set(images) - images_copied)\n",
    "\n",
    "            # Number of images to copy\n",
    "            num_of_images = math.ceil(len(images) * (split_percent[index] / 100))\n",
    "            os.mkdir(os.path.join(destination_directory, split_dir, folder))\n",
    "            print(\"Copying .. \", end=\"\")\n",
    "            for _ in range(num_of_images):\n",
    "                # Copy a random image from the folder\n",
    "                image = images.pop(random.randint(0, len(images) - 1))\n",
    "                images_copied.add(image)\n",
    "                shutil.copy(\n",
    "                    os.path.join(folder_path, image),\n",
    "                    os.path.join(destination_directory, split_dir, folder),\n",
    "                )"
   ]
  },
  {
   "cell_type": "code",
   "execution_count": 8,
   "id": "0c8d0417",
   "metadata": {},
   "outputs": [
    {
     "name": "stdout",
     "output_type": "stream",
     "text": [
      "\n",
      "\n",
      "Copying .. Copying .. Copying .. Copying .. Copying .. Copying .. Copying .. Copying .. Copying .. Copying .. Copying .. Copying .. Copying .. Copying .. Copying .. Copying .. Copying .. Copying .. Copying .. Copying .. Copying .. Copying .. Copying .. Copying .. Copying .. Copying .. Copying .. Copying .. Copying .. Copying .. Copying .. Copying .. Copying .. Copying .. Copying .. Copying .. Copying .. Copying .. \n",
      "\n",
      "Copying .. Copying .. Copying .. Copying .. Copying .. Copying .. Copying .. Copying .. Copying .. Copying .. Copying .. Copying .. Copying .. Copying .. Copying .. Copying .. Copying .. Copying .. Copying .. Copying .. Copying .. Copying .. Copying .. Copying .. Copying .. Copying .. Copying .. Copying .. Copying .. Copying .. Copying .. Copying .. Copying .. Copying .. Copying .. Copying .. Copying .. Copying .. \n",
      "\n",
      "Copying .. Copying .. Copying .. Copying .. Copying .. Copying .. Copying .. Copying .. Copying .. Copying .. Copying .. Copying .. Copying .. Copying .. Copying .. Copying .. Copying .. Copying .. Copying .. Copying .. Copying .. Copying .. Copying .. Copying .. Copying .. Copying .. Copying .. Copying .. Copying .. Copying .. Copying .. Copying .. Copying .. Copying .. Copying .. Copying .. Copying .. Copying .. "
     ]
    }
   ],
   "source": [
    "# Load images into folder split into train, validation, and test folders.\n",
    "split_train_validation_test(data_directory, split_dataset_dir)"
   ]
  },
  {
   "cell_type": "code",
   "execution_count": 43,
   "id": "4fe1392c",
   "metadata": {},
   "outputs": [],
   "source": [
    "# Used as the base model (Transfer Learning)\n",
    "base_model = tf.keras.applications.MobileNet(\n",
    "    input_shape=(224, 224, 3), weights=\"imagenet\", include_top=False, \n",
    ")"
   ]
  },
  {
   "cell_type": "code",
   "execution_count": 44,
   "id": "70e597da",
   "metadata": {},
   "outputs": [],
   "source": [
    "# Do not train this model.\n",
    "base_model.trainable = False"
   ]
  },
  {
   "cell_type": "code",
   "execution_count": 54,
   "id": "46a637bf",
   "metadata": {},
   "outputs": [
    {
     "name": "stdout",
     "output_type": "stream",
     "text": [
      "Found 42939 files belonging to 38 classes.\n"
     ]
    }
   ],
   "source": [
    "# Training data\n",
    "train_ds = tf.keras.utils.image_dataset_from_directory(\n",
    "    os.path.join(split_dataset_dir, \"train\"),\n",
    "    labels=\"inferred\",\n",
    "    label_mode=\"int\",\n",
    "    seed=123,\n",
    "    color_mode=\"rgb\",\n",
    "    batch_size=64,\n",
    "    image_size=(256, 256),\n",
    "    shuffle=True,\n",
    ")"
   ]
  },
  {
   "cell_type": "code",
   "execution_count": 55,
   "id": "90628dbc",
   "metadata": {},
   "outputs": [
    {
     "name": "stdout",
     "output_type": "stream",
     "text": [
      "Found 10815 files belonging to 38 classes.\n"
     ]
    }
   ],
   "source": [
    "# Validation data\n",
    "validation_ds = tf.keras.utils.image_dataset_from_directory(\n",
    "    os.path.join(split_dataset_dir, \"validation\"),\n",
    "    labels=\"inferred\",\n",
    "    label_mode=\"int\",\n",
    "    seed=123,\n",
    "    color_mode=\"rgb\",\n",
    "    batch_size=64,\n",
    "    image_size=(256, 256),\n",
    "    shuffle=False,\n",
    ")"
   ]
  },
  {
   "cell_type": "code",
   "execution_count": 56,
   "id": "d22916cd",
   "metadata": {},
   "outputs": [
    {
     "data": {
      "text/plain": [
       "['Apple___Apple_scab',\n",
       " 'Apple___Black_rot',\n",
       " 'Apple___Cedar_apple_rust',\n",
       " 'Apple___healthy',\n",
       " 'Blueberry___healthy',\n",
       " 'Cherry_(including_sour)___Powdery_mildew',\n",
       " 'Cherry_(including_sour)___healthy',\n",
       " 'Corn_(maize)___Cercospora_leaf_spot Gray_leaf_spot',\n",
       " 'Corn_(maize)___Common_rust_',\n",
       " 'Corn_(maize)___Northern_Leaf_Blight',\n",
       " 'Corn_(maize)___healthy',\n",
       " 'Grape___Black_rot',\n",
       " 'Grape___Esca_(Black_Measles)',\n",
       " 'Grape___Leaf_blight_(Isariopsis_Leaf_Spot)',\n",
       " 'Grape___healthy',\n",
       " 'Orange___Haunglongbing_(Citrus_greening)',\n",
       " 'Peach___Bacterial_spot',\n",
       " 'Peach___healthy',\n",
       " 'Pepper,_bell___Bacterial_spot',\n",
       " 'Pepper,_bell___healthy',\n",
       " 'Potato___Early_blight',\n",
       " 'Potato___Late_blight',\n",
       " 'Potato___healthy',\n",
       " 'Raspberry___healthy',\n",
       " 'Soybean___healthy',\n",
       " 'Squash___Powdery_mildew',\n",
       " 'Strawberry___Leaf_scorch',\n",
       " 'Strawberry___healthy',\n",
       " 'Tomato___Bacterial_spot',\n",
       " 'Tomato___Early_blight',\n",
       " 'Tomato___Late_blight',\n",
       " 'Tomato___Leaf_Mold',\n",
       " 'Tomato___Septoria_leaf_spot',\n",
       " 'Tomato___Spider_mites Two-spotted_spider_mite',\n",
       " 'Tomato___Target_Spot',\n",
       " 'Tomato___Tomato_Yellow_Leaf_Curl_Virus',\n",
       " 'Tomato___Tomato_mosaic_virus',\n",
       " 'Tomato___healthy']"
      ]
     },
     "execution_count": 56,
     "metadata": {},
     "output_type": "execute_result"
    }
   ],
   "source": [
    "# Category names\n",
    "class_names = train_ds.class_names\n",
    "train_ds.class_names"
   ]
  },
  {
   "cell_type": "code",
   "execution_count": 57,
   "id": "9348ddfe",
   "metadata": {},
   "outputs": [],
   "source": [
    "# Augmentation of data\n",
    "augmentation = tf.keras.Sequential(\n",
    "    [\n",
    "        tf.keras.layers.RandomFlip(\"horizontal_and_vertical\"),\n",
    "        tf.keras.layers.RandomRotation(factor=0.2),\n",
    "        tf.keras.layers.RandomZoom(height_factor=(-0.1, 0.1), width_factor=(-0.1, 0.1)),\n",
    "        tf.keras.layers.RandomBrightness((-0.1, 0.1)),\n",
    "    ]\n",
    ")"
   ]
  },
  {
   "cell_type": "code",
   "execution_count": 58,
   "id": "54244fde",
   "metadata": {},
   "outputs": [],
   "source": [
    "# Rescale the image\n",
    "image_size_and_scale = tf.keras.Sequential(\n",
    "    [tf.keras.layers.Resizing(224, 224), tf.keras.layers.Rescaling(1.0 / 255)]\n",
    ")\n"
   ]
  },
  {
   "cell_type": "code",
   "execution_count": 59,
   "id": "d43bc007",
   "metadata": {},
   "outputs": [],
   "source": [
    "model = tf.keras.Sequential(\n",
    "    [\n",
    "        augmentation,\n",
    "        image_size_and_scale,\n",
    "        base_model,\n",
    "        tf.keras.layers.GlobalAveragePooling2D(),\n",
    "        tf.keras.layers.Dense(1028, activation=\"relu\"),\n",
    "        tf.keras.layers.Dropout(0.5),\n",
    "        tf.keras.layers.Dense(len(class_names), activation=\"softmax\"),\n",
    "    ]\n",
    ")"
   ]
  },
  {
   "cell_type": "code",
   "execution_count": 60,
   "id": "8c4b1cf7",
   "metadata": {},
   "outputs": [],
   "source": [
    "model.compile(\n",
    "    optimizer=\"adam\",\n",
    "    loss=tf.keras.losses.sparse_categorical_crossentropy,\n",
    "    metrics=[\"accuracy\"],\n",
    ")"
   ]
  },
  {
   "cell_type": "code",
   "execution_count": 61,
   "id": "ab957ab1",
   "metadata": {},
   "outputs": [],
   "source": [
    "stop_early = tf.keras.callbacks.EarlyStopping(monitor=\"val_loss\", patience=3)"
   ]
  },
  {
   "cell_type": "code",
   "execution_count": 62,
   "id": "7e876c68",
   "metadata": {},
   "outputs": [
    {
     "name": "stdout",
     "output_type": "stream",
     "text": [
      "Epoch 1/20\n"
     ]
    },
    {
     "name": "stderr",
     "output_type": "stream",
     "text": [
      "2023-06-08 16:45:34.966183: I tensorflow/core/common_runtime/executor.cc:1197] [/device:CPU:0] (DEBUG INFO) Executor start aborting (this does not indicate an error and you can ignore this message): INVALID_ARGUMENT: You must feed a value for placeholder tensor 'Placeholder/_4' with dtype int32 and shape [42939]\n",
      "\t [[{{node Placeholder/_4}}]]\n",
      "2023-06-08 16:45:34.966619: I tensorflow/core/common_runtime/executor.cc:1197] [/device:CPU:0] (DEBUG INFO) Executor start aborting (this does not indicate an error and you can ignore this message): INVALID_ARGUMENT: You must feed a value for placeholder tensor 'Placeholder/_4' with dtype int32 and shape [42939]\n",
      "\t [[{{node Placeholder/_4}}]]\n",
      "2023-06-08 16:45:37.127562: I tensorflow/compiler/xla/service/service.cc:169] XLA service 0x353cb810 initialized for platform CUDA (this does not guarantee that XLA will be used). Devices:\n",
      "2023-06-08 16:45:37.127604: I tensorflow/compiler/xla/service/service.cc:177]   StreamExecutor device (0): NVIDIA GeForce GTX 1660 SUPER, Compute Capability 7.5\n",
      "2023-06-08 16:45:37.207873: I tensorflow/compiler/mlir/tensorflow/utils/dump_mlir_util.cc:269] disabling MLIR crash reproducer, set env var `MLIR_CRASH_REPRODUCER_DIRECTORY` to enable.\n",
      "2023-06-08 16:45:37.811220: I ./tensorflow/compiler/jit/device_compiler.h:180] Compiled cluster using XLA!  This line is logged at most once for the lifetime of the process.\n"
     ]
    },
    {
     "name": "stdout",
     "output_type": "stream",
     "text": [
      "671/671 [==============================] - ETA: 0s - loss: 0.5043 - accuracy: 0.8461"
     ]
    },
    {
     "name": "stderr",
     "output_type": "stream",
     "text": [
      "2023-06-08 16:46:30.347317: I tensorflow/core/common_runtime/executor.cc:1197] [/device:CPU:0] (DEBUG INFO) Executor start aborting (this does not indicate an error and you can ignore this message): INVALID_ARGUMENT: You must feed a value for placeholder tensor 'Placeholder/_4' with dtype int32 and shape [10815]\n",
      "\t [[{{node Placeholder/_4}}]]\n",
      "2023-06-08 16:46:30.347490: I tensorflow/core/common_runtime/executor.cc:1197] [/device:CPU:0] (DEBUG INFO) Executor start aborting (this does not indicate an error and you can ignore this message): INVALID_ARGUMENT: You must feed a value for placeholder tensor 'Placeholder/_4' with dtype int32 and shape [10815]\n",
      "\t [[{{node Placeholder/_4}}]]\n"
     ]
    },
    {
     "name": "stdout",
     "output_type": "stream",
     "text": [
      "671/671 [==============================] - 67s 96ms/step - loss: 0.5043 - accuracy: 0.8461 - val_loss: 0.2214 - val_accuracy: 0.9281\n",
      "Epoch 2/20\n",
      "671/671 [==============================] - 62s 93ms/step - loss: 0.2678 - accuracy: 0.9103 - val_loss: 0.1718 - val_accuracy: 0.9450\n",
      "Epoch 3/20\n",
      "671/671 [==============================] - 63s 93ms/step - loss: 0.2382 - accuracy: 0.9214 - val_loss: 0.1701 - val_accuracy: 0.9443\n",
      "Epoch 4/20\n",
      "671/671 [==============================] - 63s 93ms/step - loss: 0.2213 - accuracy: 0.9253 - val_loss: 0.1658 - val_accuracy: 0.9459\n",
      "Epoch 5/20\n",
      "671/671 [==============================] - 63s 93ms/step - loss: 0.2043 - accuracy: 0.9315 - val_loss: 0.1570 - val_accuracy: 0.9475\n",
      "Epoch 6/20\n",
      "671/671 [==============================] - 63s 94ms/step - loss: 0.1926 - accuracy: 0.9360 - val_loss: 0.1391 - val_accuracy: 0.9531\n",
      "Epoch 7/20\n",
      "671/671 [==============================] - 63s 93ms/step - loss: 0.1865 - accuracy: 0.9371 - val_loss: 0.1469 - val_accuracy: 0.9511\n",
      "Epoch 8/20\n",
      "671/671 [==============================] - 63s 93ms/step - loss: 0.1826 - accuracy: 0.9390 - val_loss: 0.1344 - val_accuracy: 0.9564\n",
      "Epoch 9/20\n",
      "671/671 [==============================] - 63s 94ms/step - loss: 0.1813 - accuracy: 0.9400 - val_loss: 0.1510 - val_accuracy: 0.9494\n",
      "Epoch 10/20\n",
      "671/671 [==============================] - 63s 93ms/step - loss: 0.1694 - accuracy: 0.9431 - val_loss: 0.1469 - val_accuracy: 0.9522\n",
      "Epoch 11/20\n",
      "671/671 [==============================] - 63s 93ms/step - loss: 0.1708 - accuracy: 0.9434 - val_loss: 0.1295 - val_accuracy: 0.9576\n",
      "Epoch 12/20\n",
      "671/671 [==============================] - 63s 94ms/step - loss: 0.1669 - accuracy: 0.9449 - val_loss: 0.1169 - val_accuracy: 0.9604\n",
      "Epoch 13/20\n",
      "671/671 [==============================] - 63s 94ms/step - loss: 0.1639 - accuracy: 0.9457 - val_loss: 0.1476 - val_accuracy: 0.9526\n",
      "Epoch 14/20\n",
      "671/671 [==============================] - 63s 94ms/step - loss: 0.1613 - accuracy: 0.9468 - val_loss: 0.1524 - val_accuracy: 0.9527\n",
      "Epoch 15/20\n",
      "671/671 [==============================] - 63s 94ms/step - loss: 0.1597 - accuracy: 0.9473 - val_loss: 0.1329 - val_accuracy: 0.9572\n"
     ]
    }
   ],
   "source": [
    "results = model.fit(\n",
    "    train_ds, validation_data=validation_ds, epochs=20, callbacks=[stop_early]\n",
    ")"
   ]
  },
  {
   "cell_type": "code",
   "execution_count": 65,
   "id": "773ad1e4",
   "metadata": {},
   "outputs": [],
   "source": [
    "results = pd.DataFrame(results.history)"
   ]
  },
  {
   "cell_type": "code",
   "execution_count": 66,
   "id": "1469d6fb",
   "metadata": {},
   "outputs": [],
   "source": [
    "# Save to file for python server.\n",
    "with open(\"history.json\", \"w\") as history_file:\n",
    "    results.to_json(history_file)"
   ]
  },
  {
   "cell_type": "code",
   "execution_count": 67,
   "id": "3d362824",
   "metadata": {},
   "outputs": [
    {
     "name": "stderr",
     "output_type": "stream",
     "text": [
      "2023-06-08 17:12:58.082243: I tensorflow/core/common_runtime/executor.cc:1197] [/device:CPU:0] (DEBUG INFO) Executor start aborting (this does not indicate an error and you can ignore this message): INVALID_ARGUMENT: You must feed a value for placeholder tensor 'random_flip_3_input' with dtype float and shape [?,256,256,3]\n",
      "\t [[{{node random_flip_3_input}}]]\n",
      "2023-06-08 17:12:58.182015: I tensorflow/core/common_runtime/executor.cc:1197] [/device:CPU:0] (DEBUG INFO) Executor start aborting (this does not indicate an error and you can ignore this message): INVALID_ARGUMENT: You must feed a value for placeholder tensor 'inputs' with dtype float and shape [?,256,256,3]\n",
      "\t [[{{node inputs}}]]\n",
      "2023-06-08 17:12:58.195828: I tensorflow/core/common_runtime/executor.cc:1197] [/device:CPU:0] (DEBUG INFO) Executor start aborting (this does not indicate an error and you can ignore this message): INVALID_ARGUMENT: You must feed a value for placeholder tensor 'random_flip_3_input' with dtype float and shape [?,256,256,3]\n",
      "\t [[{{node random_flip_3_input}}]]\n",
      "2023-06-08 17:12:58.209268: I tensorflow/core/common_runtime/executor.cc:1197] [/device:CPU:0] (DEBUG INFO) Executor start aborting (this does not indicate an error and you can ignore this message): INVALID_ARGUMENT: You must feed a value for placeholder tensor 'inputs' with dtype float and shape [?,256,256,3]\n",
      "\t [[{{node inputs}}]]\n",
      "2023-06-08 17:12:58.216484: I tensorflow/core/common_runtime/executor.cc:1197] [/device:CPU:0] (DEBUG INFO) Executor start aborting (this does not indicate an error and you can ignore this message): INVALID_ARGUMENT: You must feed a value for placeholder tensor 'inputs' with dtype float and shape [?,256,256,3]\n",
      "\t [[{{node inputs}}]]\n",
      "2023-06-08 17:12:58.227950: I tensorflow/core/common_runtime/executor.cc:1197] [/device:CPU:0] (DEBUG INFO) Executor start aborting (this does not indicate an error and you can ignore this message): INVALID_ARGUMENT: You must feed a value for placeholder tensor 'inputs' with dtype float and shape [?,256,256,3]\n",
      "\t [[{{node inputs}}]]\n",
      "2023-06-08 17:12:58.234040: I tensorflow/core/common_runtime/executor.cc:1197] [/device:CPU:0] (DEBUG INFO) Executor start aborting (this does not indicate an error and you can ignore this message): INVALID_ARGUMENT: You must feed a value for placeholder tensor 'inputs' with dtype float and shape [?,256,256,3]\n",
      "\t [[{{node inputs}}]]\n",
      "2023-06-08 17:12:58.247660: I tensorflow/core/common_runtime/executor.cc:1197] [/device:CPU:0] (DEBUG INFO) Executor start aborting (this does not indicate an error and you can ignore this message): INVALID_ARGUMENT: You must feed a value for placeholder tensor 'inputs' with dtype float and shape [?,256,256,3]\n",
      "\t [[{{node inputs}}]]\n",
      "2023-06-08 17:13:00.457731: I tensorflow/core/common_runtime/executor.cc:1197] [/device:CPU:0] (DEBUG INFO) Executor start aborting (this does not indicate an error and you can ignore this message): INVALID_ARGUMENT: You must feed a value for placeholder tensor 'sequential_11_input' with dtype float and shape [?,256,256,3]\n",
      "\t [[{{node sequential_11_input}}]]\n",
      "2023-06-08 17:13:00.583175: I tensorflow/core/common_runtime/executor.cc:1197] [/device:CPU:0] (DEBUG INFO) Executor start aborting (this does not indicate an error and you can ignore this message): INVALID_ARGUMENT: You must feed a value for placeholder tensor 'inputs' with dtype float and shape [?,256,256,3]\n",
      "\t [[{{node inputs}}]]\n",
      "2023-06-08 17:13:00.698411: I tensorflow/core/common_runtime/executor.cc:1197] [/device:CPU:0] (DEBUG INFO) Executor start aborting (this does not indicate an error and you can ignore this message): INVALID_ARGUMENT: You must feed a value for placeholder tensor 'sequential_11_input' with dtype float and shape [?,256,256,3]\n",
      "\t [[{{node sequential_11_input}}]]\n",
      "2023-06-08 17:13:00.827210: I tensorflow/core/common_runtime/executor.cc:1197] [/device:CPU:0] (DEBUG INFO) Executor start aborting (this does not indicate an error and you can ignore this message): INVALID_ARGUMENT: You must feed a value for placeholder tensor 'inputs' with dtype float and shape [?,1028]\n",
      "\t [[{{node inputs}}]]\n",
      "2023-06-08 17:13:00.886598: I tensorflow/core/common_runtime/executor.cc:1197] [/device:CPU:0] (DEBUG INFO) Executor start aborting (this does not indicate an error and you can ignore this message): INVALID_ARGUMENT: You must feed a value for placeholder tensor 'inputs' with dtype float and shape [?,256,256,3]\n",
      "\t [[{{node inputs}}]]\n",
      "2023-06-08 17:13:01.105280: I tensorflow/core/common_runtime/executor.cc:1197] [/device:CPU:0] (DEBUG INFO) Executor start aborting (this does not indicate an error and you can ignore this message): INVALID_ARGUMENT: You must feed a value for placeholder tensor 'inputs' with dtype float and shape [?,256,256,3]\n",
      "\t [[{{node inputs}}]]\n"
     ]
    },
    {
     "name": "stdout",
     "output_type": "stream",
     "text": [
      "INFO:tensorflow:Unsupported signature for serialization: ((TensorSpec(shape=(1024, 1028), dtype=tf.float32, name='gradient'), <tensorflow.python.framework.func_graph.UnknownArgument object at 0x7ff8c8f66cd0>, 140705954240096), {}).\n",
      "INFO:tensorflow:Unsupported signature for serialization: ((TensorSpec(shape=(1028,), dtype=tf.float32, name='gradient'), <tensorflow.python.framework.func_graph.UnknownArgument object at 0x7ff8c8f1b850>, 140705954240256), {}).\n",
      "INFO:tensorflow:Unsupported signature for serialization: ((TensorSpec(shape=(1028, 38), dtype=tf.float32, name='gradient'), <tensorflow.python.framework.func_graph.UnknownArgument object at 0x7ff8a95a4c10>, 140705954245216), {}).\n",
      "INFO:tensorflow:Unsupported signature for serialization: ((TensorSpec(shape=(38,), dtype=tf.float32, name='gradient'), <tensorflow.python.framework.func_graph.UnknownArgument object at 0x7ff8a95b5590>, 140705954244976), {}).\n"
     ]
    },
    {
     "name": "stderr",
     "output_type": "stream",
     "text": [
      "2023-06-08 17:13:01.604880: I tensorflow/core/common_runtime/executor.cc:1197] [/device:CPU:0] (DEBUG INFO) Executor start aborting (this does not indicate an error and you can ignore this message): INVALID_ARGUMENT: You must feed a value for placeholder tensor 'inputs' with dtype float and shape [?,256,256,3]\n",
      "\t [[{{node inputs}}]]\n"
     ]
    },
    {
     "name": "stdout",
     "output_type": "stream",
     "text": [
      "INFO:tensorflow:Unsupported signature for serialization: ((TensorSpec(shape=(1024, 1028), dtype=tf.float32, name='gradient'), <tensorflow.python.framework.func_graph.UnknownArgument object at 0x7ff8c8f66cd0>, 140705954240096), {}).\n",
      "INFO:tensorflow:Unsupported signature for serialization: ((TensorSpec(shape=(1028,), dtype=tf.float32, name='gradient'), <tensorflow.python.framework.func_graph.UnknownArgument object at 0x7ff8c8f1b850>, 140705954240256), {}).\n",
      "INFO:tensorflow:Unsupported signature for serialization: ((TensorSpec(shape=(1028, 38), dtype=tf.float32, name='gradient'), <tensorflow.python.framework.func_graph.UnknownArgument object at 0x7ff8a95a4c10>, 140705954245216), {}).\n",
      "INFO:tensorflow:Unsupported signature for serialization: ((TensorSpec(shape=(38,), dtype=tf.float32, name='gradient'), <tensorflow.python.framework.func_graph.UnknownArgument object at 0x7ff8a95b5590>, 140705954244976), {}).\n"
     ]
    },
    {
     "name": "stderr",
     "output_type": "stream",
     "text": [
      "2023-06-08 17:13:02.169794: I tensorflow/core/common_runtime/executor.cc:1197] [/device:CPU:0] (DEBUG INFO) Executor start aborting (this does not indicate an error and you can ignore this message): INVALID_ARGUMENT: You must feed a value for placeholder tensor 'inputs' with dtype float and shape [?,1028]\n",
      "\t [[{{node inputs}}]]\n",
      "2023-06-08 17:13:02.198005: I tensorflow/core/common_runtime/executor.cc:1197] [/device:CPU:0] (DEBUG INFO) Executor start aborting (this does not indicate an error and you can ignore this message): INVALID_ARGUMENT: You must feed a value for placeholder tensor 'inputs' with dtype float and shape [?,256,256,3]\n",
      "\t [[{{node inputs}}]]\n",
      "2023-06-08 17:13:02.244902: I tensorflow/core/common_runtime/executor.cc:1197] [/device:CPU:0] (DEBUG INFO) Executor start aborting (this does not indicate an error and you can ignore this message): INVALID_ARGUMENT: You must feed a value for placeholder tensor 'inputs' with dtype float and shape [?,256,256,3]\n",
      "\t [[{{node inputs}}]]\n",
      "2023-06-08 17:13:02.289403: I tensorflow/core/common_runtime/executor.cc:1197] [/device:CPU:0] (DEBUG INFO) Executor start aborting (this does not indicate an error and you can ignore this message): INVALID_ARGUMENT: You must feed a value for placeholder tensor 'inputs' with dtype float and shape [?,256,256,3]\n",
      "\t [[{{node inputs}}]]\n",
      "2023-06-08 17:13:02.336124: I tensorflow/core/common_runtime/executor.cc:1197] [/device:CPU:0] (DEBUG INFO) Executor start aborting (this does not indicate an error and you can ignore this message): INVALID_ARGUMENT: You must feed a value for placeholder tensor 'inputs' with dtype float and shape [?,256,256,3]\n",
      "\t [[{{node inputs}}]]\n",
      "WARNING:absl:Found untraced functions such as _update_step_xla, _jit_compiled_convolution_op, _jit_compiled_convolution_op, _jit_compiled_convolution_op, _jit_compiled_convolution_op while saving (showing 5 of 28). These functions will not be directly callable after loading.\n"
     ]
    },
    {
     "name": "stdout",
     "output_type": "stream",
     "text": [
      "INFO:tensorflow:Assets written to: image_model/assets\n"
     ]
    },
    {
     "name": "stderr",
     "output_type": "stream",
     "text": [
      "INFO:tensorflow:Assets written to: image_model/assets\n"
     ]
    }
   ],
   "source": [
    "# Save the model\n",
    "model.save(\"image_model\", overwrite=True)"
   ]
  },
  {
   "cell_type": "code",
   "execution_count": 68,
   "id": "bdaee7de",
   "metadata": {},
   "outputs": [
    {
     "name": "stdout",
     "output_type": "stream",
     "text": [
      "Found 551 files belonging to 38 classes.\n"
     ]
    }
   ],
   "source": [
    "# Test dataset\n",
    "test_ds = tf.keras.utils.image_dataset_from_directory(\n",
    "    os.path.join(split_dataset_dir, \"test\"),\n",
    "    labels=\"inferred\",\n",
    "    label_mode=\"int\",\n",
    "    seed=123,\n",
    "    color_mode=\"rgb\",\n",
    "    batch_size=64,\n",
    "    image_size=(256, 256),\n",
    "    shuffle=False,\n",
    ")"
   ]
  },
  {
   "cell_type": "code",
   "execution_count": 69,
   "id": "ab19d811",
   "metadata": {},
   "outputs": [
    {
     "name": "stderr",
     "output_type": "stream",
     "text": [
      "2023-06-08 17:14:32.785403: I tensorflow/core/common_runtime/executor.cc:1197] [/device:CPU:0] (DEBUG INFO) Executor start aborting (this does not indicate an error and you can ignore this message): INVALID_ARGUMENT: You must feed a value for placeholder tensor 'Placeholder/_4' with dtype int32 and shape [551]\n",
      "\t [[{{node Placeholder/_4}}]]\n",
      "2023-06-08 17:14:32.785696: I tensorflow/core/common_runtime/executor.cc:1197] [/device:CPU:0] (DEBUG INFO) Executor start aborting (this does not indicate an error and you can ignore this message): INVALID_ARGUMENT: You must feed a value for placeholder tensor 'Placeholder/_4' with dtype int32 and shape [551]\n",
      "\t [[{{node Placeholder/_4}}]]\n"
     ]
    },
    {
     "name": "stdout",
     "output_type": "stream",
     "text": [
      "9/9 [==============================] - 1s 122ms/step - loss: 0.1362 - accuracy: 0.9619\n"
     ]
    }
   ],
   "source": [
    "test_results = model.evaluate(test_ds)"
   ]
  },
  {
   "cell_type": "code",
   "execution_count": 70,
   "id": "e088ef16",
   "metadata": {},
   "outputs": [],
   "source": [
    "# Save to file for python server.\n",
    "with open(\"test_results.json\", \"w\") as test_results_file:\n",
    "    json.dump({\"results\": {\"loss\": test_results[0], \"accuracy\": test_results[1]}}, test_results_file)"
   ]
  },
  {
   "cell_type": "code",
   "execution_count": 80,
   "id": "ceae915f",
   "metadata": {},
   "outputs": [
    {
     "data": {
      "text/plain": [
       "'Test accuracy: 96.19%'"
      ]
     },
     "execution_count": 80,
     "metadata": {},
     "output_type": "execute_result"
    }
   ],
   "source": [
    "\"Test accuracy: {:.4}%\".format(test_results[1] * 100)"
   ]
  },
  {
   "cell_type": "code",
   "execution_count": 7,
   "id": "21527a6a",
   "metadata": {},
   "outputs": [],
   "source": [
    "# Genterating image stats.\n",
    "\n",
    "# This will be stored for the Python server to use. The \"map\" field will be used by\n",
    "# the server to find the category of a prediction made by this model.\n",
    "image_info = {\"categories\": [], \"map\": []}\n",
    "\n",
    "# Returns items that end with any of the filter strings.\n",
    "def filter_list(items, *filters):\n",
    "    return_list = []\n",
    "    for item in items:\n",
    "        if (any([item.casefold().endswith(string) for string in filters])):\n",
    "            return_list.append(item)\n",
    "    return return_list\n",
    "   \n",
    "total = 0\n",
    "map_plant_index = -1\n",
    "map_plant_disease_index = 0   \n",
    "\n",
    "plant_obj = {}\n",
    "\n",
    "for name in class_names:\n",
    "    # Split the category names into plant and disease.\n",
    "    plant, disease = name.split('___')\n",
    "    \n",
    "    # Collect the total number of images.\n",
    "    # This is filtered in case the directory contains any metadata files. \n",
    "    total += len(filter_list(os.listdir(os.path.join(data_directory, name)), \".jpg\", \".jpeg\"))\n",
    "    \n",
    "    plant = plant.replace(\"_\", \" \").strip(\" \")\n",
    "    \n",
    "    # A space in the name means that the follow text is another name for the disease.\n",
    "    # This statement will wrap that text in parenthesis.\n",
    "    if \" \" in disease:\n",
    "        disease = disease.replace(\" \", \" (\") + \")\"\n",
    "    \n",
    "    disease = disease.replace(\"_\", \" \").strip(\" \")\n",
    "    \n",
    "    \n",
    "    # Append the disease of the plant it belongs to with the number of images in that disease.\n",
    "    if plant in [plant_info[\"name\"] for plant_info in image_info[\"categories\"]]:\n",
    "        plant_obj[\"diseases\"].append({\"name\": disease, \"number\": len(filter_list(os.listdir(os.path.join(data_directory, name)), \".jpg\", \".jpeg\"))})\n",
    "        image_info[\"map\"].append([map_plant_index, map_plant_disease_index]) \n",
    "        map_plant_disease_index += 1\n",
    "    else:\n",
    "        plant_obj = {\"name\": plant, \"diseases\": []}\n",
    "        map_plant_disease_index = 0\n",
    "        map_plant_index += 1\n",
    "        image_info[\"categories\"].append(plant_obj)\n",
    "        plant_obj[\"diseases\"].append({\"name\": disease, \"number\": len(filter_list(os.listdir(os.path.join(data_directory, name)), \".jpg\", \".jpeg\"))})\n",
    "        image_info[\"map\"].append([map_plant_index, map_plant_disease_index]) \n",
    "        map_plant_disease_index = 1\n",
    "\n",
    "\n",
    "image_info[\"total\"] = total\n",
    "\n",
    "\n",
    "with open(\"image_info.json\", \"w\") as image_info_file:\n",
    "    json.dump(image_info, image_info_file)"
   ]
  },
  {
   "cell_type": "code",
   "execution_count": null,
   "id": "d3c5a887",
   "metadata": {},
   "outputs": [],
   "source": []
  }
 ],
 "metadata": {
  "kernelspec": {
   "display_name": "Python 3 (ipykernel)",
   "language": "python",
   "name": "python3"
  },
  "language_info": {
   "codemirror_mode": {
    "name": "ipython",
    "version": 3
   },
   "file_extension": ".py",
   "mimetype": "text/x-python",
   "name": "python",
   "nbconvert_exporter": "python",
   "pygments_lexer": "ipython3",
   "version": "3.11.3"
  }
 },
 "nbformat": 4,
 "nbformat_minor": 5
}
